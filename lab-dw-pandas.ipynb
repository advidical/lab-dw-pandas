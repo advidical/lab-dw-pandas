{
 "cells": [
  {
   "cell_type": "markdown",
   "id": "25d7736c-ba17-4aff-b6bb-66eba20fbf4e",
   "metadata": {
    "id": "25d7736c-ba17-4aff-b6bb-66eba20fbf4e"
   },
   "source": [
    "# Lab | Pandas"
   ]
  },
  {
   "cell_type": "markdown",
   "id": "d1973e9e-8be6-4039-b70e-d73ee0d94c99",
   "metadata": {
    "id": "d1973e9e-8be6-4039-b70e-d73ee0d94c99"
   },
   "source": [
    "In this lab, we will be working with the customer data from an insurance company, which can be found in the CSV file located at the following link: https://raw.githubusercontent.com/data-bootcamp-v4/data/main/file1.csv\n",
    "\n",
    "The data includes information such as customer ID, state, gender, education, income, and other variables that can be used to perform various analyses.\n",
    "\n",
    "Throughout the lab, we will be using the pandas library in Python to manipulate and analyze the data. Pandas is a powerful library that provides various data manipulation and analysis tools, including the ability to load and manipulate data from a variety of sources, including CSV files."
   ]
  },
  {
   "cell_type": "markdown",
   "id": "8045146f-f4f7-44d9-8cd9-130d6400c73a",
   "metadata": {
    "id": "8045146f-f4f7-44d9-8cd9-130d6400c73a"
   },
   "source": [
    "### Data Description\n",
    "\n",
    "- Customer - Customer ID\n",
    "\n",
    "- ST - State where customers live\n",
    "\n",
    "- Gender - Gender of the customer\n",
    "\n",
    "- Education - Background education of customers\n",
    "\n",
    "- Customer Lifetime Value - Customer lifetime value(CLV) is the total revenue the client will derive from their entire relationship with a customer. In other words, is the predicted or calculated value of a customer over their entire duration as a policyholder with the insurance company. It is an estimation of the net profit that the insurance company expects to generate from a customer throughout their relationship with the company. Customer Lifetime Value takes into account factors such as the duration of the customer's policy, premium payments, claim history, renewal likelihood, and potential additional services or products the customer may purchase. It helps insurers assess the long-term profitability and value associated with retaining a particular customer.\n",
    "\n",
    "- Income - Customers income\n",
    "\n",
    "- Monthly Premium Auto - Amount of money the customer pays on a monthly basis as a premium for their auto insurance coverage. It represents the recurring cost that the insured person must pay to maintain their insurance policy and receive coverage for potential damages, accidents, or other covered events related to their vehicle.\n",
    "\n",
    "- Number of Open Complaints - Number of complaints the customer opened\n",
    "\n",
    "- Policy Type - There are three type of policies in car insurance (Corporate Auto, Personal Auto, and Special Auto)\n",
    "\n",
    "- Vehicle Class - Type of vehicle classes that customers have Two-Door Car, Four-Door Car SUV, Luxury SUV, Sports Car, and Luxury Car\n",
    "\n",
    "- Total Claim Amount - the sum of all claims made by the customer. It represents the total monetary value of all approved claims for incidents such as accidents, theft, vandalism, or other covered events.\n"
   ]
  },
  {
   "cell_type": "markdown",
   "id": "3a72419b-20fc-4905-817a-8c83abc59de6",
   "metadata": {
    "id": "3a72419b-20fc-4905-817a-8c83abc59de6"
   },
   "source": [
    "External Resources: https://towardsdatascience.com/filtering-data-frames-in-pandas-b570b1f834b9"
   ]
  },
  {
   "cell_type": "markdown",
   "id": "8f8ece17-e919-4e23-96c0-c7c59778436a",
   "metadata": {
    "id": "8f8ece17-e919-4e23-96c0-c7c59778436a"
   },
   "source": [
    "## Challenge 1: Understanding the data\n",
    "\n",
    "In this challenge, you will use pandas to explore a given dataset. Your task is to gain a deep understanding of the data by analyzing its characteristics, dimensions, and statistical properties."
   ]
  },
  {
   "cell_type": "markdown",
   "id": "91437bd5-59a6-49c0-8150-ef0e6e6eb253",
   "metadata": {
    "id": "91437bd5-59a6-49c0-8150-ef0e6e6eb253"
   },
   "source": [
    "- Identify the dimensions of the dataset by determining the number of rows and columns it contains.\n",
    "- Determine the data types of each column and evaluate whether they are appropriate for the nature of the variable. You should also provide suggestions for fixing any incorrect data types.\n",
    "- Identify the number of unique values for each column and determine which columns appear to be categorical. You should also describe the unique values of each categorical column and the range of values for numerical columns, and give your insights.\n",
    "- Compute summary statistics such as mean, median, mode, standard deviation, and quartiles to understand the central tendency and distribution of the data for numerical columns. You should also provide your conclusions based on these summary statistics.\n",
    "- Compute summary statistics for categorical columns and providing your conclusions based on these statistics."
   ]
  },
  {
   "cell_type": "code",
   "execution_count": 1,
   "id": "dd4e8cd8-a6f6-486c-a5c4-1745b0c035f4",
   "metadata": {
    "id": "dd4e8cd8-a6f6-486c-a5c4-1745b0c035f4"
   },
   "outputs": [],
   "source": [
    "import pandas as pd"
   ]
  },
  {
   "cell_type": "code",
   "execution_count": 2,
   "id": "HeuVaCWsPM_Y",
   "metadata": {
    "id": "HeuVaCWsPM_Y"
   },
   "outputs": [],
   "source": [
    "sep_lines = \"\\n\"+\"-\"*75+\"\\n\""
   ]
  },
  {
   "cell_type": "code",
   "execution_count": 3,
   "id": "FIjYva-eN7q2",
   "metadata": {
    "colab": {
     "base_uri": "https://localhost:8080/"
    },
    "id": "FIjYva-eN7q2",
    "outputId": "4b91c225-559f-4a6e-e62d-316874ab950f"
   },
   "outputs": [
    {
     "name": "stdout",
     "output_type": "stream",
     "text": [
      "Shape: 4008 rows x 11 columns\n",
      "---------------------------------------------------------------------------\n",
      "Customer                      object\n",
      "ST                            object\n",
      "GENDER                        object\n",
      "Education                     object\n",
      "Customer Lifetime Value       object\n",
      "Income                       float64\n",
      "Monthly Premium Auto         float64\n",
      "Number of Open Complaints     object\n",
      "Policy Type                   object\n",
      "Vehicle Class                 object\n",
      "Total Claim Amount           float64\n",
      "dtype: object\n",
      "---------------------------------------------------------------------------\n",
      "Customer                     1071\n",
      "ST                              8\n",
      "GENDER                          5\n",
      "Education                       6\n",
      "Customer Lifetime Value      1027\n",
      "Income                        774\n",
      "Monthly Premium Auto          132\n",
      "Number of Open Complaints       6\n",
      "Policy Type                     3\n",
      "Vehicle Class                   6\n",
      "Total Claim Amount            761\n",
      "dtype: int64\n",
      "---------------------------------------------------------------------------\n",
      "['Personal Auto' 'Corporate Auto' 'Special Auto' nan]\n",
      "---------------------------------------------------------------------------\n",
      "['Four-Door Car' 'Two-Door Car' 'SUV' 'Luxury SUV' 'Sports Car'\n",
      " 'Luxury Car' nan]\n",
      "---------------------------------------------------------------------------\n",
      "['Master' 'Bachelor' 'High School or Below' 'College' 'Bachelors' 'Doctor'\n",
      " nan]\n",
      "---------------------------------------------------------------------------\n",
      "['1/0/00' '1/2/00' '1/1/00' '1/3/00' '1/5/00' '1/4/00' nan]\n",
      "---------------------------------------------------------------------------\n"
     ]
    }
   ],
   "source": [
    "# Your code here\n",
    "url =  \"https://raw.githubusercontent.com/data-bootcamp-v4/data/main/file1.csv\"\n",
    "car_insurance_df = pd.read_csv(url)\n",
    "rows, cols = car_insurance_df.shape\n",
    "print(f\"Shape: {rows} rows x {cols} columns\", end=sep_lines)\n",
    "print(car_insurance_df.dtypes, end=sep_lines)\n",
    "print(car_insurance_df.nunique(),end=sep_lines)\n",
    "print(car_insurance_df['Policy Type'].unique(),end=sep_lines)\n",
    "print(car_insurance_df['Vehicle Class'].unique(),end=sep_lines)\n",
    "print(car_insurance_df['Education'].unique(),end=sep_lines)\n",
    "print(car_insurance_df['Number of Open Complaints'].unique(),end=sep_lines)"
   ]
  },
  {
   "cell_type": "markdown",
   "id": "cs4yVkcvPzIG",
   "metadata": {
    "id": "cs4yVkcvPzIG"
   },
   "source": [
    "### **data types:**\n",
    "**from reading the data types**:\n",
    "It seems any categorical or string id columns are object type while the few numerical are float64.\n",
    "2 Columns seem to have out of place dtypes:\n",
    "- Number of Open Complaints: should be INT instead of object\n",
    "- Customer Lifetime Value, which should be Float64 instead of object\n",
    "\n",
    "### Data Categorization:\n",
    "**From looking at unique value counts and data types of columns:**\n",
    "- Numerical:\n",
    "  - Continuous: Customer Lifetime value, Income, Monthly payment,Total Claim\n",
    "  - Discrete: Number of open complaints\n",
    "\n",
    "- Categorical:\n",
    "  - Nominal: State, Gender, Vehicle Class(different type of cars (is a SUV higher ranking than a 2-4 door car? can't be answered so...))\n",
    "  - Ordinal: Education, Policy type(assuming special > corporate > personal, otherwise it would be nominal.)\n",
    "\n",
    "\n",
    "\n"
   ]
  },
  {
   "cell_type": "code",
   "execution_count": 4,
   "id": "usNlAfAcV8UF",
   "metadata": {
    "colab": {
     "base_uri": "https://localhost:8080/",
     "height": 300
    },
    "id": "usNlAfAcV8UF",
    "outputId": "cd306ba8-2750-4891-d022-7c2c0ec8e555"
   },
   "outputs": [
    {
     "data": {
      "text/html": [
       "<div>\n",
       "<style scoped>\n",
       "    .dataframe tbody tr th:only-of-type {\n",
       "        vertical-align: middle;\n",
       "    }\n",
       "\n",
       "    .dataframe tbody tr th {\n",
       "        vertical-align: top;\n",
       "    }\n",
       "\n",
       "    .dataframe thead th {\n",
       "        text-align: right;\n",
       "    }\n",
       "</style>\n",
       "<table border=\"1\" class=\"dataframe\">\n",
       "  <thead>\n",
       "    <tr style=\"text-align: right;\">\n",
       "      <th></th>\n",
       "      <th>Income</th>\n",
       "      <th>Monthly Premium Auto</th>\n",
       "      <th>Total Claim Amount</th>\n",
       "    </tr>\n",
       "  </thead>\n",
       "  <tbody>\n",
       "    <tr>\n",
       "      <th>count</th>\n",
       "      <td>1071.000000</td>\n",
       "      <td>1071.000000</td>\n",
       "      <td>1071.000000</td>\n",
       "    </tr>\n",
       "    <tr>\n",
       "      <th>mean</th>\n",
       "      <td>39295.701214</td>\n",
       "      <td>193.234360</td>\n",
       "      <td>404.986909</td>\n",
       "    </tr>\n",
       "    <tr>\n",
       "      <th>std</th>\n",
       "      <td>30469.427060</td>\n",
       "      <td>1601.190369</td>\n",
       "      <td>293.027260</td>\n",
       "    </tr>\n",
       "    <tr>\n",
       "      <th>min</th>\n",
       "      <td>0.000000</td>\n",
       "      <td>61.000000</td>\n",
       "      <td>0.382107</td>\n",
       "    </tr>\n",
       "    <tr>\n",
       "      <th>25%</th>\n",
       "      <td>14072.000000</td>\n",
       "      <td>68.000000</td>\n",
       "      <td>202.157702</td>\n",
       "    </tr>\n",
       "    <tr>\n",
       "      <th>50%</th>\n",
       "      <td>36234.000000</td>\n",
       "      <td>83.000000</td>\n",
       "      <td>354.729129</td>\n",
       "    </tr>\n",
       "    <tr>\n",
       "      <th>75%</th>\n",
       "      <td>64631.000000</td>\n",
       "      <td>109.500000</td>\n",
       "      <td>532.800000</td>\n",
       "    </tr>\n",
       "    <tr>\n",
       "      <th>max</th>\n",
       "      <td>99960.000000</td>\n",
       "      <td>35354.000000</td>\n",
       "      <td>2893.239678</td>\n",
       "    </tr>\n",
       "  </tbody>\n",
       "</table>\n",
       "</div>"
      ],
      "text/plain": [
       "             Income  Monthly Premium Auto  Total Claim Amount\n",
       "count   1071.000000           1071.000000         1071.000000\n",
       "mean   39295.701214            193.234360          404.986909\n",
       "std    30469.427060           1601.190369          293.027260\n",
       "min        0.000000             61.000000            0.382107\n",
       "25%    14072.000000             68.000000          202.157702\n",
       "50%    36234.000000             83.000000          354.729129\n",
       "75%    64631.000000            109.500000          532.800000\n",
       "max    99960.000000          35354.000000         2893.239678"
      ]
     },
     "execution_count": 4,
     "metadata": {},
     "output_type": "execute_result"
    }
   ],
   "source": [
    "car_insurance_df.describe(include='number')"
   ]
  },
  {
   "cell_type": "code",
   "execution_count": 5,
   "id": "hPVWKfgvEGpW",
   "metadata": {
    "colab": {
     "base_uri": "https://localhost:8080/",
     "height": 175
    },
    "id": "hPVWKfgvEGpW",
    "outputId": "10ff0bef-8f21-4991-90b0-55772b4dbc91"
   },
   "outputs": [
    {
     "data": {
      "text/html": [
       "<div>\n",
       "<style scoped>\n",
       "    .dataframe tbody tr th:only-of-type {\n",
       "        vertical-align: middle;\n",
       "    }\n",
       "\n",
       "    .dataframe tbody tr th {\n",
       "        vertical-align: top;\n",
       "    }\n",
       "\n",
       "    .dataframe thead th {\n",
       "        text-align: right;\n",
       "    }\n",
       "</style>\n",
       "<table border=\"1\" class=\"dataframe\">\n",
       "  <thead>\n",
       "    <tr style=\"text-align: right;\">\n",
       "      <th></th>\n",
       "      <th>Customer</th>\n",
       "      <th>ST</th>\n",
       "      <th>GENDER</th>\n",
       "      <th>Education</th>\n",
       "      <th>Customer Lifetime Value</th>\n",
       "      <th>Number of Open Complaints</th>\n",
       "      <th>Policy Type</th>\n",
       "      <th>Vehicle Class</th>\n",
       "    </tr>\n",
       "  </thead>\n",
       "  <tbody>\n",
       "    <tr>\n",
       "      <th>count</th>\n",
       "      <td>1071</td>\n",
       "      <td>1071</td>\n",
       "      <td>954</td>\n",
       "      <td>1071</td>\n",
       "      <td>1068</td>\n",
       "      <td>1071</td>\n",
       "      <td>1071</td>\n",
       "      <td>1071</td>\n",
       "    </tr>\n",
       "    <tr>\n",
       "      <th>unique</th>\n",
       "      <td>1071</td>\n",
       "      <td>8</td>\n",
       "      <td>5</td>\n",
       "      <td>6</td>\n",
       "      <td>1027</td>\n",
       "      <td>6</td>\n",
       "      <td>3</td>\n",
       "      <td>6</td>\n",
       "    </tr>\n",
       "    <tr>\n",
       "      <th>top</th>\n",
       "      <td>RB50392</td>\n",
       "      <td>Oregon</td>\n",
       "      <td>F</td>\n",
       "      <td>Bachelor</td>\n",
       "      <td>445811.34%</td>\n",
       "      <td>1/0/00</td>\n",
       "      <td>Personal Auto</td>\n",
       "      <td>Four-Door Car</td>\n",
       "    </tr>\n",
       "    <tr>\n",
       "      <th>freq</th>\n",
       "      <td>1</td>\n",
       "      <td>320</td>\n",
       "      <td>457</td>\n",
       "      <td>324</td>\n",
       "      <td>4</td>\n",
       "      <td>830</td>\n",
       "      <td>780</td>\n",
       "      <td>576</td>\n",
       "    </tr>\n",
       "  </tbody>\n",
       "</table>\n",
       "</div>"
      ],
      "text/plain": [
       "       Customer      ST GENDER Education Customer Lifetime Value  \\\n",
       "count      1071    1071    954      1071                    1068   \n",
       "unique     1071       8      5         6                    1027   \n",
       "top     RB50392  Oregon      F  Bachelor              445811.34%   \n",
       "freq          1     320    457       324                       4   \n",
       "\n",
       "       Number of Open Complaints    Policy Type  Vehicle Class  \n",
       "count                       1071           1071           1071  \n",
       "unique                         6              3              6  \n",
       "top                       1/0/00  Personal Auto  Four-Door Car  \n",
       "freq                         830            780            576  "
      ]
     },
     "execution_count": 5,
     "metadata": {},
     "output_type": "execute_result"
    }
   ],
   "source": [
    "car_insurance_df.describe(include='object')"
   ]
  },
  {
   "cell_type": "code",
   "execution_count": 6,
   "id": "zBW09l1hG6pH",
   "metadata": {
    "colab": {
     "base_uri": "https://localhost:8080/"
    },
    "id": "zBW09l1hG6pH",
    "outputId": "79223077-ff69-41c8-c2b0-9d101b0c6029"
   },
   "outputs": [
    {
     "data": {
      "text/plain": [
       "GENDER\n",
       "F                        502\n",
       "M                        452\n",
       "Sum                      954\n",
       "ratio F-M    52.62% - 47.38%\n",
       "Name: count, dtype: object"
      ]
     },
     "execution_count": 6,
     "metadata": {},
     "output_type": "execute_result"
    }
   ],
   "source": [
    "import re\n",
    "gender = set([\"F\",\"M\"])\n",
    "gender_s = car_insurance_df['GENDER'].value_counts()\n",
    "for key in car_insurance_df['GENDER'].unique():\n",
    "    if key in gender: continue\n",
    "        \n",
    "    if re.match('[Ff]', str(key)):\n",
    "        gender_s[\"F\"] += gender_s[key]\n",
    "        gender_s.drop(key,inplace=True)\n",
    "\n",
    "    if re.match('[mM]', str(key)):\n",
    "        gender_s[\"M\"] += gender_s[key]\n",
    "        gender_s.drop(key,inplace=True)\n",
    "    \n",
    "gender_s['Sum'] = gender_s.sum()\n",
    "gender_s['ratio F-M'] = f\"{gender_s['F']/gender_s['Sum']*100:.2f}% - {gender_s['M']/gender_s['Sum']*100:.2f}%\"\n",
    "gender_s"
   ]
  },
  {
   "cell_type": "code",
   "execution_count": 7,
   "id": "I16zgkH4Et9p",
   "metadata": {
    "colab": {
     "base_uri": "https://localhost:8080/"
    },
    "id": "I16zgkH4Et9p",
    "outputId": "5e832dad-a1cc-41da-def3-96bfe45bf03d"
   },
   "outputs": [
    {
     "name": "stdout",
     "output_type": "stream",
     "text": [
      "ST unique: ['Washington' 'Arizona' 'Nevada' 'California' 'Oregon' 'Cali' 'AZ' 'WA'\n",
      " nan]\n",
      "ST unique: ST\n",
      "Oregon        320\n",
      "California    211\n",
      "Arizona       186\n",
      "Cali          120\n",
      "Nevada         98\n",
      "Washington     81\n",
      "WA             30\n",
      "AZ             25\n",
      "Name: count, dtype: int64\n",
      "---------------------------------------------------------------------------\n",
      "GENDER unique: [nan 'F' 'M' 'Femal' 'Male' 'female']\n",
      "GENDER unique: GENDER\n",
      "F         457\n",
      "M         413\n",
      "Male       39\n",
      "female     28\n",
      "Femal      17\n",
      "Name: count, dtype: int64\n",
      "---------------------------------------------------------------------------\n",
      "Education unique: ['Master' 'Bachelor' 'High School or Below' 'College' 'Bachelors' 'Doctor'\n",
      " nan]\n",
      "Education unique: Education\n",
      "Bachelor                324\n",
      "College                 313\n",
      "High School or Below    296\n",
      "Master                   94\n",
      "Doctor                   37\n",
      "Bachelors                 7\n",
      "Name: count, dtype: int64\n",
      "---------------------------------------------------------------------------\n",
      "Customer Lifetime Value unique: [nan '697953.59%' '1288743.17%' ... '2031499.76%' '323912.47%'\n",
      " '899704.02%']\n",
      "Customer Lifetime Value unique: Customer Lifetime Value\n",
      "445811.34%     4\n",
      "251459.20%     4\n",
      "272535.64%     3\n",
      "578018.22%     3\n",
      "684615.03%     3\n",
      "              ..\n",
      "245357.08%     1\n",
      "507566.27%     1\n",
      "321497.94%     1\n",
      "1227534.31%    1\n",
      "899704.02%     1\n",
      "Name: count, Length: 1027, dtype: int64\n",
      "---------------------------------------------------------------------------\n",
      "Number of Open Complaints unique: ['1/0/00' '1/2/00' '1/1/00' '1/3/00' '1/5/00' '1/4/00' nan]\n",
      "Number of Open Complaints unique: Number of Open Complaints\n",
      "1/0/00    830\n",
      "1/1/00    138\n",
      "1/2/00     50\n",
      "1/3/00     34\n",
      "1/4/00     13\n",
      "1/5/00      6\n",
      "Name: count, dtype: int64\n",
      "---------------------------------------------------------------------------\n",
      "Policy Type unique: ['Personal Auto' 'Corporate Auto' 'Special Auto' nan]\n",
      "Policy Type unique: Policy Type\n",
      "Personal Auto     780\n",
      "Corporate Auto    234\n",
      "Special Auto       57\n",
      "Name: count, dtype: int64\n",
      "---------------------------------------------------------------------------\n",
      "Vehicle Class unique: ['Four-Door Car' 'Two-Door Car' 'SUV' 'Luxury SUV' 'Sports Car'\n",
      " 'Luxury Car' nan]\n",
      "Vehicle Class unique: Vehicle Class\n",
      "Four-Door Car    576\n",
      "Two-Door Car     205\n",
      "SUV              199\n",
      "Sports Car        57\n",
      "Luxury SUV        20\n",
      "Luxury Car        14\n",
      "Name: count, dtype: int64\n",
      "---------------------------------------------------------------------------\n"
     ]
    }
   ],
   "source": [
    "for key in car_insurance_df.describe(include='object').columns:\n",
    "    if key != 'Customer':\n",
    "        print(f\"{key} unique: {car_insurance_df[key].unique()}\")\n",
    "        print(f\"{key} unique: {car_insurance_df[key].value_counts()}\",end=sep_lines)"
   ]
  },
  {
   "cell_type": "markdown",
   "id": "9TYEo7z3ELqu",
   "metadata": {
    "id": "9TYEo7z3ELqu"
   },
   "source": [
    "### Data Descripiton + summary statistics:\n",
    "  **Categorical:**\n",
    "  - Policy type :  special auto, corporate auto, personal auto\n",
    "    - according to the data, most clients have the personal auto plan, followed by corporate then special plans; seems to indicate most of their clients are not in a corporate offiece or relatively wealthy.\n",
    "\n",
    "  - Education : High School/below, College, Bachelor, Master, Doctor (note: duplicate in Bachelors)\n",
    "    - According to the data, it seems majority of clients went to college, although many didn't finish, some only have high school or below education, and only a few clients have advanced degrees. This could indicate that the insurance company mainly serves those with only a high school or undergraduate college education, working/middle class income workers.\n",
    "\n",
    "  - Vehicle Class: Four-Door Car, Two-Door Car, SUV, Luxury SUV ,Sports Car, Luxury Car\n",
    "    - Most policy holders have 4 door cars, with two door cars and SUVs taking the next portion, and luxury classes are last. This indicates that most clients don't own luxurious car vehicles and only some have access to SUVs for carrying  4+ passangers and plenty of cargo space.\n",
    "  - Gender: Female, Male\n",
    "    - Female 502 (52.62%) ; Male 452 (47.38%): indicates a slight lean towards Women clients. Could maybe explain some income discrepancies; women tend to make less income on avg and some stay home to take care of kids full-time as mothers, which could explain some zero income policy holders.\n",
    "  - States: Washington Arizona Nevada California Oregon\n",
    "    - 1st California 331 ; 2nd Oregon 320 ; 3rd Arizona 211; 4th Washington 111 5th Nevada 98 ; Seems to indicate car insurande mainly serves **South/North Western USA,** particularly in Cali and Oregon. Could indicate current market reach in insurance company.\n",
    "\n",
    "\n",
    "**Insights**:\n",
    "This car insurance company seems to provide policies for working/middle class clients, corporations/corporate clients, and wealthier clients. It seems they contain a slight majority of women, most are working class, most have 4 door/ 2 door cars, most have personal auto plans, clientale is based in Western USA, and that most have at least some college education or high school education.\n",
    "\n",
    "\n",
    "\n",
    "\n",
    "**Numerical:**\n",
    " - Income: \\$0 - \\$99960.0: indicates that they accept a broad level of income level people, even those with no recorded income; however this could be explained by couple of things, like teens who get their car insurance paid for by their parents, or corporate offices not disclosing the income of their employees. However, it does seem that they don't not have any clients with 6 or more figure salaries.\n",
    "    - mean: 39295.7\n",
    "    - median: 36234.000000\n",
    "    - std: 30469.427060\n",
    "    - *Stat Conclusion*: The mean income is ~40k, indicating the average client is in the lower income class, the median being slightly lower indicates a slight skew of higher paying clientele, and the std indicates a seemingly very wide spread of incomes at around ~30k. This indicates that they have a majority of low income clients with a few relatively more wealthy clients.\n",
    "\n",
    " - Monthly payment: \\$61 - \\$35354 - indicates a broad range of monthly premiums, could be that they have a couple of high risk clients with majorly increased premiums\n",
    "    - mean: 193.2\n",
    "    - median: 83.0\n",
    "    - std: 1601.2\n",
    "    - *Stat Conclusion*: The mean premium is ~\\$193, indicating that the average client pays a decently high monthly premium; the median being significantly lower indicates a major skew of higher premiums, caused probably by wealthier clients or high risk clients, and the std indicates a seemingly very wide spread of premiums at around ~1.6k. This indicates that they have a majority of low income clients with a few relatively more wealthy/higher-risk clients.\n",
    "\n",
    " - Total Claim : \\$.38 - \\$2893.24 - indicates a broad range of total claim\n",
    " amounts; seems they do not pay out much expensive claims .\n",
    "  - mean: 404.98\n",
    "    - median: 354.0\n",
    "    - std: 293.02\n",
    "    - *Stat Conclusion*: The mean premium is ~\\$404, indicating that the average client gets a small claim from the insurance company; the median being slightly lower indicates a minor skew of higher premiums. The std at 293.02 is smaller than the mean, which may indicate a narrow range of claims made. This indicates that the car insurance complany does not pay out much to their clients in order to seek porfot.\n",
    "\n",
    " - customer lifetime value: All I can conclude is that their lifetime value percentages seem to be very high at 10 ** 5 factor.\n"
   ]
  },
  {
   "cell_type": "markdown",
   "id": "4a703890-63db-4944-b7ab-95a4f8185120",
   "metadata": {
    "id": "4a703890-63db-4944-b7ab-95a4f8185120"
   },
   "source": [
    "## Challenge 2: analyzing the data"
   ]
  },
  {
   "cell_type": "markdown",
   "id": "qjQbNNGwaFNK",
   "metadata": {
    "id": "qjQbNNGwaFNK"
   },
   "source": [
    "### **Numerical Data:**\n",
    "**from reading the data types**:\n",
    "It seems any categorical or string id columns are object type while the few numerical are float64.\n",
    "2 Columns seem to have out of place dtypes:\n",
    "- Number of Open Complaints: should be INT instead of object\n",
    "- Customer Lifetime Value, which should be Float64 instead of object\n"
   ]
  },
  {
   "cell_type": "code",
   "execution_count": 15,
   "id": "MVO1l7oRaE0g",
   "metadata": {
    "colab": {
     "base_uri": "https://localhost:8080/"
    },
    "id": "MVO1l7oRaE0g",
    "outputId": "35e2e04d-109f-4dec-c27e-86756f262717"
   },
   "outputs": [
    {
     "name": "stdout",
     "output_type": "stream",
     "text": [
      "float64\n"
     ]
    },
    {
     "data": {
      "text/plain": [
       "dtype('int64')"
      ]
     },
     "execution_count": 15,
     "metadata": {},
     "output_type": "execute_result"
    }
   ],
   "source": [
    "clv = car_insurance_df['Customer Lifetime Value'].apply(lambda x: float(str(x).strip('%')))\n",
    "car_insurance_df['Customer Lifetime Value'] = clv\n",
    "print(car_insurance_df['Customer Lifetime Value'].dtype)\n",
    "num_complaints = []\n",
    "types = set()\n",
    "for num in car_insurance_df['Number of Open Complaints']:\n",
    "    if isinstance(num,str):\n",
    "        num_complaints.append(int(num.split('/')[1]))\n",
    "    else:\n",
    "        num_complaints.append(-1)\n",
    "    types.add(type(num))\n",
    "\n",
    "car_insurance_df['Number of Open Complaints'] = num_complaints\n",
    "car_insurance_df['Number of Open Complaints'].dtype"
   ]
  },
  {
   "cell_type": "code",
   "execution_count": 9,
   "id": "h9-JhKAKiDwv",
   "metadata": {
    "colab": {
     "base_uri": "https://localhost:8080/"
    },
    "id": "h9-JhKAKiDwv",
    "outputId": "120ed907-b8f2-411d-b4fe-10148264b398"
   },
   "outputs": [
    {
     "data": {
      "text/plain": [
       "Customer                     1071\n",
       "ST                              8\n",
       "GENDER                          5\n",
       "Education                       6\n",
       "Customer Lifetime Value      1027\n",
       "Income                        774\n",
       "Monthly Premium Auto          132\n",
       "Number of Open Complaints       7\n",
       "Policy Type                     3\n",
       "Vehicle Class                   6\n",
       "Total Claim Amount            761\n",
       "dtype: int64"
      ]
     },
     "execution_count": 9,
     "metadata": {},
     "output_type": "execute_result"
    }
   ],
   "source": [
    "car_insurance_df.nunique()"
   ]
  },
  {
   "cell_type": "markdown",
   "id": "0776a403-c56a-452f-ac33-5fd4fdb06fc7",
   "metadata": {
    "id": "0776a403-c56a-452f-ac33-5fd4fdb06fc7"
   },
   "source": [
    "### Exercise 1"
   ]
  },
  {
   "cell_type": "markdown",
   "id": "eedbc484-da4d-4f9c-9343-e1d44311a87e",
   "metadata": {
    "id": "eedbc484-da4d-4f9c-9343-e1d44311a87e"
   },
   "source": [
    "The marketing team wants to know the top 5 less common customer locations. Create a pandas Series object that contains the customer locations and their frequencies, and then retrieve the top 5 less common locations in ascending order."
   ]
  },
  {
   "cell_type": "code",
   "execution_count": 10,
   "id": "2dca5073-4520-4f42-9390-4b92733284ed",
   "metadata": {
    "colab": {
     "base_uri": "https://localhost:8080/"
    },
    "id": "2dca5073-4520-4f42-9390-4b92733284ed",
    "outputId": "551f3df9-0759-491e-ccb6-aae20ff04d12"
   },
   "outputs": [
    {
     "data": {
      "text/plain": [
       "ST\n",
       "Nevada         98\n",
       "Washington    111\n",
       "Arizona       211\n",
       "Oregon        320\n",
       "California    331\n",
       "Name: count, dtype: int64"
      ]
     },
     "execution_count": 10,
     "metadata": {},
     "output_type": "execute_result"
    }
   ],
   "source": [
    "# Your code here\n",
    "customer_locs = car_insurance_df['ST'].value_counts()\n",
    "customer_locs['Arizona'] += customer_locs['AZ']\n",
    "customer_locs['Washington'] += customer_locs['WA']\n",
    "customer_locs['California'] += customer_locs['Cali']\n",
    "customer_locs.drop(['AZ','Cali','WA'],inplace=True)\n",
    "customer_locs.sort_values(inplace=True)\n",
    "customer_locs.iloc[0:5]"
   ]
  },
  {
   "cell_type": "markdown",
   "id": "0ce80f43-4afa-43c7-a78a-c917444da4e0",
   "metadata": {
    "id": "0ce80f43-4afa-43c7-a78a-c917444da4e0"
   },
   "source": [
    "### Exercise 2\n",
    "\n",
    "The sales team wants to know the total number of policies sold for each type of policy. Create a pandas Series object that contains the policy types and their total number of policies sold, and then retrieve the policy type with the highest number of policies sold."
   ]
  },
  {
   "cell_type": "markdown",
   "id": "a9f13997-1555-4f98-aca6-970fda1d2c3f",
   "metadata": {
    "id": "a9f13997-1555-4f98-aca6-970fda1d2c3f"
   },
   "source": [
    "*Hint:*\n",
    "- *Using value_counts() method simplifies this analysis.*\n",
    "- *Futhermore, there is a method that returns the index of the maximum value in a column or row.*\n"
   ]
  },
  {
   "cell_type": "code",
   "execution_count": 11,
   "id": "bcfad6c1-9af2-4b0b-9aa9-0dc5c17473c0",
   "metadata": {
    "colab": {
     "base_uri": "https://localhost:8080/"
    },
    "id": "bcfad6c1-9af2-4b0b-9aa9-0dc5c17473c0",
    "outputId": "76c1a040-288a-45ed-f0da-ced9d7841bec"
   },
   "outputs": [
    {
     "name": "stdout",
     "output_type": "stream",
     "text": [
      "Policy Type\n",
      "Personal Auto     780\n",
      "Corporate Auto    234\n",
      "Special Auto       57\n",
      "Name: count, dtype: int64 Highest sold is Personal Auto\n"
     ]
    }
   ],
   "source": [
    "# Your code here\n",
    "policy_types = car_insurance_df['Policy Type'].value_counts()\n",
    "print(policy_types, f\"Highest sold is {policy_types.idxmax()}\")"
   ]
  },
  {
   "cell_type": "markdown",
   "id": "0b863fd3-bf91-4d5d-86eb-be29ed9f5b70",
   "metadata": {
    "id": "0b863fd3-bf91-4d5d-86eb-be29ed9f5b70"
   },
   "source": [
    "### Exercise 3\n",
    "\n",
    "The sales team wants to know if customers with Personal Auto have a lower income than those with Corporate Auto. How does the average income compare between the two policy types?"
   ]
  },
  {
   "cell_type": "markdown",
   "id": "b1386d75-2810-4aa1-93e0-9485aa12d552",
   "metadata": {
    "id": "b1386d75-2810-4aa1-93e0-9485aa12d552"
   },
   "source": [
    "- Use *loc* to create two dataframes: one containing only Personal Auto policies and one containing only Corporate Auto policies.\n",
    "- Calculate the average income for each policy.\n",
    "- Print the results."
   ]
  },
  {
   "cell_type": "code",
   "execution_count": 25,
   "id": "0c0563cf-6f8b-463d-a321-651a972f82e5",
   "metadata": {
    "colab": {
     "base_uri": "https://localhost:8080/"
    },
    "id": "0c0563cf-6f8b-463d-a321-651a972f82e5",
    "outputId": "35cae154-6757-4807-8c66-41502f6cc926"
   },
   "outputs": [],
   "source": [
    "# Your code here\n",
    "personal_df = car_insurance_df.loc[car_insurance_df['Policy Type'] == 'Personal Auto']\n",
    "corporate_df = car_insurance_df.loc[car_insurance_df['Policy Type'] == 'Corporate Auto']"
   ]
  },
  {
   "cell_type": "code",
   "execution_count": 13,
   "id": "kZreYQApp_Hv",
   "metadata": {
    "colab": {
     "base_uri": "https://localhost:8080/"
    },
    "id": "kZreYQApp_Hv",
    "outputId": "dd003485-f05b-432b-955d-33f23778f6de"
   },
   "outputs": [
    {
     "name": "stdout",
     "output_type": "stream",
     "text": [
      "personal auto mean income : $38180.70\n",
      "corporate auto mean income : $41390.31\n"
     ]
    }
   ],
   "source": [
    "personal_mean = personal_df['Income'].mean()\n",
    "corporate_mean = corporate_df['Income'].mean()\n",
    "print(f\"personal auto mean income : ${personal_mean:.2f}\")\n",
    "print(f\"corporate auto mean income : ${corporate_mean:.2f}\")"
   ]
  },
  {
   "cell_type": "markdown",
   "id": "80b16c27-f4a5-4727-a229-1f88671cf4e2",
   "metadata": {
    "id": "80b16c27-f4a5-4727-a229-1f88671cf4e2"
   },
   "source": [
    "### Bonus: Exercise 4\n"
   ]
  },
  {
   "cell_type": "code",
   "execution_count": 16,
   "id": "4Q6VgnRvp6Pv",
   "metadata": {
    "id": "4Q6VgnRvp6Pv"
   },
   "outputs": [
    {
     "data": {
      "text/plain": [
       "count    1071.000000\n",
       "mean      404.986909\n",
       "std       293.027260\n",
       "min         0.382107\n",
       "25%       202.157702\n",
       "50%       354.729129\n",
       "75%       532.800000\n",
       "max      2893.239678\n",
       "Name: Total Claim Amount, dtype: float64"
      ]
     },
     "execution_count": 16,
     "metadata": {},
     "output_type": "execute_result"
    }
   ],
   "source": [
    "car_insurance_df.describe(include='number')['Total Claim Amount']"
   ]
  },
  {
   "cell_type": "markdown",
   "id": "ac584986-299b-475f-ac2e-928c16c3f512",
   "metadata": {
    "id": "ac584986-299b-475f-ac2e-928c16c3f512"
   },
   "source": [
    "Your goal is to identify customers with a high policy claim amount.\n",
    "\n",
    "Instructions:\n",
    "\n",
    "- Review again the statistics for total claim amount to gain an understanding of the data.\n",
    "- To identify potential areas for improving customer retention and profitability, we want to focus on customers with a high policy claim amount. Consider customers with a high policy claim amount to be those in the top 25% of the total claim amount. Create a pandas DataFrame object that contains information about customers with a policy claim amount greater than the 75th percentile.\n",
    "- Use DataFrame methods to calculate summary statistics about the high policy claim amount data."
   ]
  },
  {
   "cell_type": "markdown",
   "id": "4e3af5f1-6023-4b05-9c01-d05392daa650",
   "metadata": {
    "id": "4e3af5f1-6023-4b05-9c01-d05392daa650"
   },
   "source": [
    "*Note: When analyzing data, we often want to focus on certain groups of values to gain insights. Percentiles are a useful tool to help us define these groups. A percentile is a measure that tells us what percentage of values in a dataset are below a certain value. For example, the 75th percentile represents the value below which 75% of the data falls. Similarly, the 25th percentile represents the value below which 25% of the data falls. When we talk about the top 25%, we are referring to the values that fall above the 75th percentile, which represent the top quarter of the data. On the other hand, when we talk about the bottom 25%, we are referring to the values that fall below the 25th percentile, which represent the bottom quarter of the data. By focusing on these groups, we can identify patterns and trends that may be useful for making decisions and taking action.*\n",
    "\n",
    "*Hint: look for a method that gives you the percentile or quantile 0.75 and 0.25 for a Pandas Series.*"
   ]
  },
  {
   "cell_type": "markdown",
   "id": "2d234634-50bd-41e0-88f7-d5ba684455d1",
   "metadata": {
    "id": "2d234634-50bd-41e0-88f7-d5ba684455d1"
   },
   "source": [
    "*Hint 2: check `Boolean selection according to the values of a single column` in https://towardsdatascience.com/filtering-data-frames-in-pandas-b570b1f834b9*"
   ]
  },
  {
   "cell_type": "code",
   "execution_count": 21,
   "id": "b731bca6-a760-4860-a27b-a33efa712ce0",
   "metadata": {
    "id": "b731bca6-a760-4860-a27b-a33efa712ce0"
   },
   "outputs": [],
   "source": [
    "# Your code here\n",
    "total_claim = car_insurance_df['Total Claim Amount']\n",
    "top_25_perc = total_claim.quantile(.75)"
   ]
  },
  {
   "cell_type": "code",
   "execution_count": 22,
   "id": "8fbf7dbf",
   "metadata": {},
   "outputs": [],
   "source": [
    "high_policy_df = car_insurance_df[total_claim > top_25_perc]"
   ]
  },
  {
   "cell_type": "code",
   "execution_count": 24,
   "id": "21fc4182",
   "metadata": {},
   "outputs": [
    {
     "data": {
      "text/plain": [
       "count     264.000000\n",
       "mean      782.228263\n",
       "std       292.751640\n",
       "min       537.600000\n",
       "25%       606.521741\n",
       "50%       679.597985\n",
       "75%       851.400000\n",
       "max      2893.239678\n",
       "Name: Total Claim Amount, dtype: float64"
      ]
     },
     "execution_count": 24,
     "metadata": {},
     "output_type": "execute_result"
    }
   ],
   "source": [
    "high_policy_df.describe(include='number')['Total Claim Amount']"
   ]
  }
 ],
 "metadata": {
  "colab": {
   "provenance": []
  },
  "kernelspec": {
   "display_name": "Python 3 (ipykernel)",
   "language": "python",
   "name": "python3"
  },
  "language_info": {
   "codemirror_mode": {
    "name": "ipython",
    "version": 3
   },
   "file_extension": ".py",
   "mimetype": "text/x-python",
   "name": "python",
   "nbconvert_exporter": "python",
   "pygments_lexer": "ipython3",
   "version": "3.11.7"
  }
 },
 "nbformat": 4,
 "nbformat_minor": 5
}
